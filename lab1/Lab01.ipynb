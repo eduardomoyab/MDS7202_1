{
  "cells": [
    {
      "cell_type": "markdown",
      "metadata": {
        "id": "J4_IcuuKZj9Y",
        "cell_id": "097fce6dce21405c911254a775ae3d26",
        "deepnote_cell_type": "markdown"
      },
      "source": [
        "<h1><center>Laboratorio 1: Git 👾</center></h1>\n",
        "\n",
        "<center><strong>MDS7202: Laboratorio de Programación Científica para Ciencia de Datos - Primavera 2023</strong></center>"
      ]
    },
    {
      "cell_type": "markdown",
      "metadata": {
        "id": "AEXIACc7aADv",
        "cell_id": "9e8e8f2ae34e461da4f44508a96d2cf4",
        "deepnote_cell_type": "markdown"
      },
      "source": [
        "### Cuerpo Docente:\n",
        "\n",
        "- Profesores: Ignacio Meza, Gabriel Iturra\n",
        "- Auxiliar: Sebastián Tinoco\n",
        "- Ayudante: Arturo Lazcano, Angelo Muñoz"
      ]
    },
    {
      "cell_type": "markdown",
      "metadata": {
        "id": "0HgMMyoCaG8X",
        "cell_id": "3e5b48c23e1b48f6a64de41899166179",
        "deepnote_cell_type": "markdown"
      },
      "source": [
        "### Equipo: SUPER IMPORTANTE - notebooks sin nombre no serán revisados\n",
        "\n",
        "- Nombre de alumno 1: Eduardo Moya B.\n",
        "- Nombre de alumno 2: Nicolás Ojeda G."
      ]
    },
    {
      "cell_type": "markdown",
      "metadata": {
        "id": "fz77X6glaK6y",
        "cell_id": "1db7c82b68614d19b112ba3b0d0abe4d",
        "deepnote_cell_type": "markdown"
      },
      "source": [
        "### **Link de repositorio de GitHub:** [LINK](https://github.com/eduardomoyab/MDS7202_1)\n",
        "\n",
        "---\n",
        "\n"
      ]
    },
    {
      "cell_type": "markdown",
      "metadata": {
        "id": "rRwqaxIZaNx3",
        "cell_id": "bc3dac65089d4ae6a43c079547dee179",
        "deepnote_cell_type": "markdown"
      },
      "source": [
        "## Reglas:\n",
        "\n",
        "- Fecha de entrega: 6 días desde la publicación, 3 días de atraso con 1 punto de descuento c/u. Pueden utilizar días bonus sin descuento.\n",
        "- **Grupos de 2 personas**\n",
        "- Asistencia **obligatoria** a instrucciones del lab (viernes 16.15). Luego, pueden quedarse trabajando en las salas o irse.\n",
        "- **Ausentes tienen nota máxima 6.0**.  \n",
        "- Cualquier duda fuera del horario de clases al foro. Mensajes al equipo docente serán respondidos por este medio.\n",
        "- <u>Prohibidas las copias</u>. Cualquier intento de copia será debidamente penalizado con el reglamento de la escuela.\n",
        "- Pueden usar cualquer material del curso que estimen conveniente.\n",
        "- Asistencia obligatoria a instrucciones del lab (viernes 16.15). Luego, pueden quedarse trabajando en las salas o irse."
      ]
    },
    {
      "cell_type": "markdown",
      "metadata": {
        "id": "bmToL27JaSrf",
        "cell_id": "05e4729411a24153837fd13b7f198bd9",
        "deepnote_cell_type": "markdown"
      },
      "source": [
        "## Objetivos del lab:\n",
        "\n",
        "\n",
        "- Conocer los elementos básicos que conformar `Git`\n",
        "- Clonar repositorios\n",
        "- Identificar ramas de un repositorio\n",
        "- Reconocer y solucionar problemas entre ramas\n",
        "- Subir cambios a un repositorio"
      ]
    },
    {
      "cell_type": "markdown",
      "metadata": {
        "id": "bvnPCvrVbJLK",
        "cell_id": "5ebae9d601bd4d508349ab55297e9f82",
        "deepnote_cell_type": "markdown"
      },
      "source": [
        "## Parte 1: Conocimiento Teórico (2.5 pts)\n",
        "\n",
        "<p align=\"center\">\n",
        "  <img src=\"https://cdn.thedesigninspiration.com/wp-content/uploads/sites/3/2019/04/macintosh-hdusersbrittanyloefflerdownloadsanig-1.gif\" width=\"350\">\n",
        "</p>"
      ]
    },
    {
      "cell_type": "markdown",
      "metadata": {
        "id": "JHl-24XnbNLF",
        "cell_id": "627494dba4f84520b3ee8b9cbf58ee79",
        "deepnote_cell_type": "markdown"
      },
      "source": [
        "Responda las siguientes preguntas (0.2 pts c/u):\n",
        "\n",
        "1. ¿Qué es `Git` y cómo se relaciona con el control de versiones?\n",
        "\n",
        "2. Nombre y explique 3 diferencias entre `Git` y `Github`.\n",
        "\n",
        "3. ¿Qué es un `hash` y cómo se representa en un `commit`? De un ejemplo.\n",
        "\n",
        "4. ¿Que elementos componen a la estructura de datos de `Git`?\n",
        "\n",
        "5. ¿Que comandos de `Git` sirven para crear un repositorio y hacer seguimiento a cambios en los archivos?"
      ]
    },
    {
      "cell_type": "markdown",
      "metadata": {
        "id": "2tXCSkf0caG8",
        "cell_id": "6d06c40f429044a298b27c666f51f46f",
        "deepnote_cell_type": "markdown"
      },
      "source": [
        "<code>Escriba sus respuestas acá:</code>\n",
        "\n",
        "1.   Git es un sistema de control de versiones que permite registrar y seguir cambios en proyectos. Con la capacidad de trabajar en diferentes ramas, fusionar cambios y resolver conflictos, Git facilita la colaboración en el desarrollo de software y otros proyectos. Al ser distribuido, cada copia del proyecto contiene el historial completo, lo que simplifica el trabajo local y la sincronización con repositorios remotos. En esencia, Git optimiza la gestión y colaboración en el proceso de desarrollo.\n",
        "\n",
        "2.  En cuanto a las diferencias entre git y github encontramos\n",
        "  1. **Naturaleza y funcionalidad:** Git se presenta como un sistema de control de versiones distribuido, dedicado a rastrear los cambios en archivos y carpetas a lo largo del tiempo. Su enfoque se centra en la gestión local de cambios y ramificaciones a través de comandos en la línea de comandos. Por otro lado, GitHub es una plataforma en línea que aprovecha la tecnología de Git para hospedar repositorios de código. Ofrece una interfaz gráfica que facilita la colaboración en equipo, brindando herramientas para revisar códigos, gestionar problemas y colaborar en proyectos, lo que extiende las capacidades de Git hacia la esfera de la colaboración colaborativa.\n",
        "\n",
        "  2. **Interfaz y Plataforma:** Git se utiliza principalmente mediante comandos de texto en la línea de comandos, proporcionando una experiencia orientada al manejo de archivos y ramas en el sistema local. Por el contrario, GitHub ofrece una plataforma web con una interfaz gráfica intuitiva que permite a los usuarios explorar los repositorios, visualizar historiales de cambios, realizar seguimiento de problemas y participar en la colaboración del proyecto de una manera más visual y accesible.\n",
        "\n",
        "  3. **Ubicación y Colaboración:** Git opera en el entorno local del usuario, permitiendo la creación de repositorios locales para rastrear y gestionar cambios sin depender de una conexión a Internet. Mientras tanto, GitHub funciona como un servicio en línea que aloja los repositorios en servidores remotos, creando un espacio virtual para que los equipos colaboren en proyectos desde diferentes ubicaciones. Este enfoque fomenta la colaboración al permitir que múltiples personas contribuyan y revisen cambios antes de incorporarlos al repositorio principal.\n",
        "\n",
        "3. Un hash en Git es una identificación única generada a partir del contenido y detalles del commit. Representado como una cadena hexadecimal, el hash actúa como una huella digital para identificar de manera única cada commit en el historial del repositorio. Por ejemplo, un hash podría ser \"c2b4a3f56d89e7a12b3f4c56a78901d234567890\". Cada commit tiene su propio hash único, lo que permite el seguimiento preciso de los cambios en el historial.\n",
        "\n",
        "4. La estructura de datos de Git se compone de varios elementos clave que son fundamentales para su funcionamiento. Aquí están los elementos más importantes:\n",
        "\n",
        "  1. **Blob (Objetos Blob):** Representa el contenido de un archivo en un momento específico. Los objetos Blob almacenan los datos reales de los archivos en el repositorio, incluyendo su contenido y metadatos.\n",
        "\n",
        "  2. **Tree (Objetos Tree):** Los objetos Tree almacenan la estructura de directorios y archivos en un directorio particular en un punto en el tiempo. Contienen referencias a los objetos Blob y otros objetos Tree, lo que crea la jerarquía de archivos y carpetas en el repositorio.\n",
        "\n",
        "  3. **Commit (Objetos Commit):** Los objetos Commit representan un punto en el tiempo en la historia del repositorio. Contienen referencias a uno o más objetos Tree que capturan el estado de los archivos en ese commit, así como metadatos como el autor, la fecha y un mensaje descriptivo.\n",
        "\n",
        "  4. **Tag (Objetos Tag):** Los objetos Tag se utilizan para etiquetar puntos específicos en la historia del repositorio, como versiones estables o hitos importantes. Contienen referencias a objetos Commit.\n",
        "\n",
        "  5. **Branch (Referencias de Branch):** Las referencias de Branch son punteros móviles que apuntan al último Commit de una línea de desarrollo particular. Estas referencias permiten que los desarrolladores trabajen en diferentes ramas de desarrollo simultáneamente.\n",
        "\n",
        "  6. **Remote (Repositorios Remotos):** Los repositorios remotos son copias del repositorio en servidores remotos. Permiten la colaboración y la sincronización de cambios entre equipos y desarrolladores.\n",
        "\n",
        "  7. **Index (Área de Staging):** El Index es una etapa intermedia entre los cambios realizados en los archivos y los commits. Permite seleccionar qué cambios se incluirán en el próximo commit.\n",
        "\n",
        "  8. **HEAD:** Es una referencia especial que apunta al último Commit en la rama actual. Indica dónde estás trabajando en el repositorio en un momento dado.\n",
        "\n",
        "  9. **Merge:** La operación de fusión combina los cambios de una rama en otra, creando un nuevo Commit que incorpora ambos conjuntos de cambios.\n",
        "\n",
        "5. Para crear un repositorio y hacer seguimiento a cambios en los archivos utilizando Git, los comandos más importantes son los siguientes:\n",
        "\n",
        "  1. **git init:** Este comando se utiliza para crear un nuevo repositorio Git en un directorio local. Crea la estructura inicial de control de versiones en ese directorio.\n",
        "\n",
        "  2. **git add:** Este comando se utiliza para agregar archivos al área de preparación (staging area). Prepara los archivos para que sus cambios sean incluidos en el próximo commit.\n",
        "\n",
        "  3. **git commit:** Después de agregar los cambios al área de preparación, este comando crea un nuevo commit con esos cambios y un mensaje descriptivo que explica el propósito del commit.\n",
        "\n",
        "  4. **git status:** Proporciona información sobre el estado actual del repositorio. Muestra qué archivos han sido modificados, agregados al área de preparación o no rastreados.\n",
        "\n",
        "  5. **git log:** Muestra el historial de commits en el repositorio. Proporciona detalles sobre los commits anteriores, como los identificadores de hash, el autor, la fecha y los mensajes.\n",
        "\n",
        "  6. **git diff:** Muestra las diferencias entre el área de preparación y los archivos en el directorio de trabajo, o las diferencias entre commits.\n",
        "\n",
        "  7. **git checkout:** Se utiliza para cambiar entre ramas o commits anteriores. También se usa para crear nuevas ramas.\n",
        "\n",
        "  8. **git push:** En repositorios remotos, este comando se utiliza para enviar los commits locales al repositorio remoto.\n",
        "\n",
        "  9. **git pull:** En repositorios remotos, este comando se utiliza para traer los cambios del repositorio remoto al repositorio local.\n",
        "\n",
        "  10. **git clone:** Se utiliza para clonar un repositorio remoto completo en un nuevo directorio local.\n",
        "\n",
        "Estos son algunos de los comandos esenciales para crear un repositorio, agregar cambios y hacer seguimiento a los cambios en los archivos a través de Git. Cada uno de estos comandos desempeña un papel importante en la gestión de versiones y la colaboración en el desarrollo de proyectos.\n",
        "\n",
        "\n",
        "\n",
        "\n"
      ]
    },
    {
      "cell_type": "markdown",
      "metadata": {
        "id": "MACccbP4gU43",
        "cell_id": "ec9855406e324cc98b59e33500faea84",
        "deepnote_cell_type": "markdown"
      },
      "source": [
        "Responda si las siguientes afirmaciones son Verdaderas (V) o Falsas (F). Justifique en **cualquiera** de los casos (0.2 pts c/u):\n",
        "\n",
        "\n",
        "6. `Git` siempre resuelve automáticamente los problemas de lineas al hacer merge entre diferentes ramas.\n",
        "7. Ejecutar `git pull` sobre un repositorio es equivalente a ejecutar `git clone`.\n",
        "8. `git status` genera los mismos resultados que `git log`.\n",
        "9. En `Git` es posible deshacer cambios y volver a versiones anteriores del código.\n",
        "10. El comando `git commit` se utiliza para enviar cambios al repositorio remoto."
      ]
    },
    {
      "cell_type": "markdown",
      "metadata": {
        "id": "DFnmCToOgeM3",
        "cell_id": "7e6a5a6e15b045cc9d104cf017825f1a",
        "deepnote_cell_type": "markdown"
      },
      "source": [
        "<code>Escriba sus respuestas acá:</code>\n",
        "\n",
        "\n",
        "6. Falso (F): Git no siempre resuelve automáticamente los problemas de líneas al hacer merge entre diferentes ramas. Puede ocurrir que haya conflictos en las líneas modificadas en ambas ramas que se están fusionando. En tales casos, Git solicitará al usuario que resuelva manualmente los conflictos antes de completar la fusión.\n",
        "\n",
        "7. Falso (F): Ejecutar `git pull` en un repositorio existente trae los cambios del repositorio remoto a la rama local actual. En cambio, `git clone` se utiliza para crear una copia completa de un repositorio remoto en un nuevo directorio local.\n",
        "\n",
        "8. Falso (F): `git status` y `git log` son comandos diferentes que generan resultados diferentes. `git status` muestra el estado actual del área de trabajo, incluyendo archivos modificados, archivos en el área de preparación y otros detalles relevantes. Por otro lado, `git log` muestra el historial de commits en el repositorio, con detalles sobre los commits anteriores.\n",
        "\n",
        "9. Verdadero (V): En Git es posible deshacer cambios y volver a versiones anteriores del código utilizando varios enfoques, como revertir commits, resetear a commits anteriores o crear una nueva rama a partir de una versión anterior. Estos métodos permiten deshacer errores o restaurar versiones previas del código.\n",
        "\n",
        "10. Falso (F): El comando `git commit` se utiliza para crear un nuevo commit en el repositorio local. Este comando guarda los cambios en el historial del repositorio local, pero no los envía automáticamente al repositorio remoto. Para enviar los cambios al repositorio remoto, se utiliza el comando `git push`."
      ]
    },
    {
      "cell_type": "markdown",
      "metadata": {
        "cell_id": "54317cad024744ebaf4938df55ba3b95",
        "deepnote_cell_type": "markdown",
        "id": "vUFuyZMJ7nOs"
      },
      "source": [
        "Por último, investigue y comente para qué sirven los siguientes comandos:\n",
        "\n",
        "11. `git stash` (0.25 puntos)\n",
        "\n",
        "   El comando `git stash` se utiliza para guardar temporalmente los cambios que aún no están listos para ser confirmados en un commit. A veces, mientras trabajas en una rama, es posible que necesites cambiar a otra rama para abordar un problema o realizar alguna tarea. Sin embargo, si tienes cambios no comprometidos, cambiar de rama podría ser problemático. En este escenario, `git stash` te permite guardar esos cambios en un área de almacenamiento temporal (stash) y luego recuperarlos cuando vuelvas a la rama original o cuando los necesites. Esto permite un cambio de contexto sin tener que comprometer o desechar los cambios en progreso.\n",
        "\n",
        "12. `git reset`. ¿Cuál es la diferencia de este comando con `git revert`?. (0.25 puntos)\n",
        "\n",
        "   - **`git reset`:** El comando `git reset` se utiliza para modificar el historial de commits eliminando commits o cambiando la rama actual a un estado anterior. Tiene tres formas principales: `--soft`, `--mixed` (predeterminado) y `--hard`. `--soft` conserva los cambios de los commits y los lleva al área de preparación, `--mixed` elimina los cambios de los commits y los coloca en el directorio de trabajo, mientras que `--hard` elimina por completo los cambios en los commits.\n",
        "\n",
        "   - **`git revert`:** El comando `git revert` se utiliza para crear un nuevo commit que deshace los cambios introducidos por un commit específico. En lugar de cambiar el historial existente, `git revert` crea un nuevo commit que revierte los cambios anteriores. Esto es útil para mantener un historial de cambios completo y público, ya que no altera la historia pasada, sino que agrega un nuevo commit que deshace los efectos de uno anterior."
      ]
    },
    {
      "cell_type": "markdown",
      "metadata": {
        "id": "i7Em9JkbbRLo",
        "cell_id": "3e4d8b9974e4426ca38fd20f4b835a55",
        "deepnote_cell_type": "markdown"
      },
      "source": [
        "## Parte 2: Creando una presentación personal (1.5 pts)\n",
        "\n",
        "<p align=\"center\">\n",
        "  <img src=\"https://media.tenor.com/arqlNu8gyJYAAAAC/cat-cat-jumping.gif\" width=\"150\">\n",
        "</p>\n",
        "\n"
      ]
    },
    {
      "cell_type": "markdown",
      "metadata": {
        "id": "XWIHfyrlbYOJ",
        "cell_id": "988648005dba4b9782c6625dfe6ae4ef",
        "deepnote_cell_type": "markdown"
      },
      "source": [
        "Para empezar a \"*soltar las manos*\" con `Git`, se les encomienda crear un repositorio con una presentación personal. El repositorio debe contener un breve resumen de quienes son ustedes, sus gustos, experiencias, y cualquier otro detalle interesante que ustedes consideren relevante.\n",
        "\n",
        "Para realizar esto, deben seguir los siguientes pasos:\n",
        "\n",
        "1. Contar con una cuenta de github (1 por persona)\n",
        "2. Crear un repositorio con su nombre de usuario\n",
        "3. Vincular el repositorio a su ambiente local ¿Qué comando(s) me permiten hacer esto?\n",
        "4. Crear un archivo `readme.md` con la información que ustedes deseen compartir.\n",
        "5. Realizar `push` con los cambios generados\n",
        "\n",
        "A modo de ejemplo, pueden guiarse por esta *suculenta* [presentación](https://github.com/Mezosky)\n",
        "\n",
        "**Nota: Deben trabajar todos estos puntos desde su ambiente local**\n",
        "\n",
        "*Hint: Una buena opción es usar templates de presentación personal que encuentren en Google, como los que ofrece este [sitio](https://durgeshsamariya.github.io/awesome-github-profile-readme-templates/#/)*.\n",
        "\n",
        "**Entregable:**\n",
        "\n",
        "Enlace al repositorio con la presentación personal.\n",
        "\n",
        "IMPORTANTE: DEBEN ADJUNTAR UN ENLACE POR PERSONA"
      ]
    },
    {
      "cell_type": "markdown",
      "metadata": {
        "id": "IIkWyl9tf0Sg",
        "cell_id": "081b38d55dc54282bc8e3cd300ce9d3e",
        "deepnote_cell_type": "markdown"
      },
      "source": [
        "<code>Link Presentacion 1:</code> [Eduardo Moya](https://github.com/eduardomoyab/eduardomoyab)\n",
        "\n",
        "<code>Link Presentacion 2:</code> [Nicolás Ojeda](https://github.com/nicolasojedag/nicolasojedag)"
      ]
    },
    {
      "cell_type": "markdown",
      "metadata": {
        "id": "CAzXOwvDY-IG",
        "cell_id": "0481a05d2d1a46928f6cfb7762720980",
        "deepnote_cell_type": "markdown"
      },
      "source": [
        "## Parte 3: Trabajando sobre un repositorio externo (2 pts)\n",
        "\n",
        "<p align=\"center\">\n",
        "  <img src=\"https://media.tenor.com/YXL-0SK15j4AAAAC/dance-animals.gif\" width=\"300\">\n",
        "</p>\n",
        "\n",
        "Tras muchos dolores de cabeza, un grupo de entusiastas académicos decidieron aprender sobre `Git` y así trabajar colaborativamente de forma más ordenada y eficiente. Después de una infinidad de intentos y aprender de sus errores \"*a la mala*\", los académicos lograron levantar un [repositorio](https://github.com/MDS7202/lab1) en `Github`. Usando el repositorio de los académicos, responda las siguientes preguntas (**incluya también los comandos en `Git` ocupados**):\n"
      ]
    },
    {
      "cell_type": "markdown",
      "metadata": {
        "id": "BFRnAw0rfguR",
        "cell_id": "bcef73b2e8604579bde90ed6622abfe9",
        "deepnote_cell_type": "markdown"
      },
      "source": [
        "### 1 . Clone el repositorio a su ambiente local. (0.25 pts)"
      ]
    },
    {
      "cell_type": "markdown",
      "metadata": {
        "id": "KXro32yBeilN",
        "cell_id": "5d126ac3819c44479af94d3895bc4c97",
        "deepnote_cell_type": "markdown"
      },
      "source": [
        "    Para esto ejecutamos en la terminal el siguiente comando:\n",
        "\n",
        "    > git clone https://github.com/MDS7202/lab1"
      ]
    },
    {
      "cell_type": "markdown",
      "metadata": {
        "cell_id": "e215e4e25b2440f09ac273ba63603986",
        "deepnote_cell_type": "markdown",
        "id": "csd3wTf77nOu"
      },
      "source": [
        "### 2 . Descomprima los archivos subidos con la tarea en U-cursos en la carpeta recién clonada de github. Una vez realizado esto, cree un archivo `.gitignore` con el cual omita la carpeta `videos` y los archivos con la extensión `.txt` exceptuando el archivo `171.txt` de la carpeta `texts`. (0.25 pts)"
      ]
    },
    {
      "cell_type": "markdown",
      "metadata": {
        "cell_id": "186233b44d004e3bbd86262d010188b5",
        "deepnote_cell_type": "markdown",
        "id": "YuPCZhs27nOu"
      },
      "source": [
        "El archivo se encuentra en el siguiente [LINK](https://github.com/eduardomoyab/MDS7202_1/blob/main/lab1/.gitignore)"
      ]
    },
    {
      "cell_type": "markdown",
      "metadata": {
        "id": "q2qmiDyjt2M_",
        "cell_id": "1de150590a41484a988b8e46616a2324",
        "deepnote_cell_type": "markdown"
      },
      "source": [
        "###  3 . Inspeccione brevemente el repositorio: ¿Cual es el objetivo del proyecto? Explique brevemente la estructura del proyecto, asi como también cada elemento que lo conforma. (0.25 pts)"
      ]
    },
    {
      "cell_type": "markdown",
      "metadata": {
        "id": "aBHpR8VTftkT",
        "cell_id": "082ca01c865e48e28352b280400c47b6",
        "deepnote_cell_type": "markdown"
      },
      "source": [
        "  Este repositorio contiene un proyecto que busca emular el sonido de animales. Para ello trae un archivo readme donde se detalla el propósito del proyecto y 2 módulos de python llamados animales.py y main.py. El archivo main.py es el archivo principal para ser ejecutado, el cual ejecuta una función de arranque que pregunta al usuario un animal para saber el sonido de este. Una vez que es ingresado por el usuario, este se utiliza en una nueva función llamando al módulo animales.py, el cual contiene las opciones de aninales perro, gato y \"fox\", retornando el sonido de estos, y en caso de cualquier otro animal ingresado se señala que el animal no es reconocido."
      ]
    },
    {
      "cell_type": "markdown",
      "metadata": {
        "id": "XFwqcpLZfylf",
        "cell_id": "3aab4a3ee0c246e1be955680ad653fb8",
        "deepnote_cell_type": "markdown"
      },
      "source": [
        "### 4 . Identifique los últimos cambios al repositorio, reconociendo las principales ramas de trabajo. ¿Son informativos los `commit` realizados? (0.25 pts)\n",
        "*Hint: Se recomienda usar los argumentos `all`, `graph` y `decorate`*"
      ]
    },
    {
      "cell_type": "markdown",
      "metadata": {
        "id": "cmWfXBkOhog0",
        "cell_id": "0fab79a360ac4c6a9ca0ab884f85c7e1",
        "deepnote_cell_type": "markdown"
      },
      "source": [
        "Para ello se utiliza el comando git log --all --graph --decorate, con lo que se obtiene:\n",
        "\n",
        "\n",
        "  * commit b262d86411a6b017e99bf0731e33a6787739247c\n",
        "\n",
        "    Author: seba <stinoco@fen.uchile.cl>\\\n",
        "    Date:   Wed Mar 22 17:25:30 2023 -0300\n",
        "\n",
        "        primer commit\n",
        "\n",
        "    En este caso se tiene el primer commit realizado por \"Seba\" el 22 de marzo a las 17:25. Este ocurre en la rama principal \"main\", donde se indica que se realizó el primer commit, pero sin embargo no se informa de lo que se hace en el repositorio, por ende, este no es informativo.\n",
        "\n",
        "---\n",
        "\n",
        "* commit c8b1a62d7299552b0654f930d695b33109214111\\\n",
        "\n",
        "  Author: seba <stinoco@fen.uchile.cl>\\\n",
        "  Date:   Wed Mar 22 17:28:19 2023 -0300\n",
        "\n",
        "      se agrega funcion\n",
        "\n",
        "  Este commit tambien es realizado por Seba el 22 de marzo a las 17:28 en la rama principal \"Main\". Esta vez se detalla la labor realizada, la cual consiste en agregar una función al repositorio en el archivo main.py. Si bien no se detalla la función agregada, si corresponde a un commit mas informativo.\n",
        "\n",
        "---\n",
        "\n",
        "* commit 362fe21ee44f53ee944cee4ba484600308f83d78 (HEAD -> main, origin/new_features, origin/main, origin/HEAD)\\\n",
        "  \n",
        "  Author: mezosky <ignacio.meza@ug.uchile.cl>\\\n",
        "   Date:   Thu Mar 23 21:47:34 2023 -0300\n",
        "\n",
        "       Se separa el proyecto en modulos\n",
        "  \n",
        "  Este commit es realizado por Ignacio meza el 23 de marzo a las 21:47, donde en este se detalla que el proyecto se separa en módulos de python (main.py y animales.py). En este caso, se detalla claramente la tarea realizada, por lo que en este caso si es un commit informativo. Este commit ocurre en las ramas main y new_features.\n",
        "\n",
        "---\n",
        "\n",
        "* commit 25543a3baf77292baf849726784ca005473acab1 (origin/fix-ifs)\\\n",
        "\n",
        "   Author: Pablo Badilla <pbadilla.torrealba@gmail.com>\\\n",
        "   Date:   Thu Mar 23 22:50:49 2023 -0300\n",
        "  \n",
        "       fix ifs\n",
        "\n",
        "  En este caso, se tiene un commit realizado por Pablo Badilla el 23 de marzo a las 22:50, donde en este se detalla que se arreglan las condicionales \"if\" en algun código, aunque este no es muy detallado. Pese a esto, este es levemente informativo, aunque en este caso se debe conocer bien el contexto del repositorio para entender bien el commit. Este commit ocurre en la rama fix-ifs.\n",
        "---"
      ]
    },
    {
      "cell_type": "markdown",
      "metadata": {
        "id": "Vqbj9HdXrUnN",
        "cell_id": "d07b24d21f2343fb9a7e6a5db74e98c3",
        "deepnote_cell_type": "markdown"
      },
      "source": [
        "### 5 . Uno de los académicos se da cuenta que la rama principal de trabajo no se ejecuta correctamente para todos los argumentos. Señale y explique el error en el código e identifique a la persona que lo cometió usando `git blame` (0.25 pts)\n",
        "\n",
        "*Hint: Le puede ser útil esta [documentación](https://www.atlassian.com/es/git/tutorials/inspecting-a-repository/git-blame).*"
      ]
    },
    {
      "cell_type": "markdown",
      "metadata": {
        "id": "5ajhV2Iar3tV",
        "cell_id": "bc5b0f9c639643108f8e66687b721732",
        "deepnote_cell_type": "markdown"
      },
      "source": [
        "El error en la rama principal se encuentra en el modulo animales.py, donde a través de git blame animales.py se obtiene:\n",
        "\n",
        "    362fe21e (mezosky 2023-03-23 21:47:34 -0300  1) def animales(input):\n",
        "    362fe21e (mezosky 2023-03-23 21:47:34 -0300  2)\n",
        "    362fe21e (mezosky 2023-03-23 21:47:34 -0300  3)     '''\n",
        "    362fe21e (mezosky 2023-03-23 21:47:34 -0300  4)     Como hace el animalito?\n",
        "    362fe21e (mezosky 2023-03-23 21:47:34 -0300  5)     '''\n",
        "    362fe21e (mezosky 2023-03-23 21:47:34 -0300  6)\n",
        "    362fe21e (mezosky 2023-03-23 21:47:34 -0300  7)     if input.lower() == 'gato':\n",
        "    362fe21e (mezosky 2023-03-23 21:47:34 -0300  8)         print('miau')\n",
        "    362fe21e (mezosky 2023-03-23 21:47:34 -0300  9)     if input.lower() == 'perro':\n",
        "    362fe21e (mezosky 2023-03-23 21:47:34 -0300 10)         print('guau')\n",
        "    362fe21e (mezosky 2023-03-23 21:47:34 -0300 11)     if input.lower() == 'fox':\n",
        "    362fe21e (mezosky 2023-03-23 21:47:34 -0300 12)         print('https://www.youtube.com/watch?v=jofNR_WkoCE')\n",
        "    362fe21e (mezosky 2023-03-23 21:47:34 -0300 13)     else:\n",
        "    362fe21e (mezosky 2023-03-23 21:47:34 -0300 14)         raise ValueError('animal no reconocido :(')\n",
        "\n",
        "En este caso se puede observar que el autor mezosky (Ignacio Meza) cometió un error con el código al incluir solamente condicionales if que son independientes entre si, lo que permite que se ejecuten mas de un condicional para un mismo animal. Este error fue corregido en la rama fix-ifs en el modulo main.py, sin embargo al dividir el código en 2 módulos por Ignacio Meza, este fue dividido con el archivo main de la rama principal, por ende no se utilizó la corrección realizada en la rama fix-ifs.\n"
      ]
    },
    {
      "cell_type": "markdown",
      "metadata": {
        "id": "m8J3uE7MhqTA",
        "cell_id": "f3f4e78e6d9145ebbb120c0a2e4aade6",
        "deepnote_cell_type": "markdown"
      },
      "source": [
        "### 6 . Busque los siguientes `commit`:\n",
        "\n",
        "- `c8b1a62d7299552b0654f930d695b33109214111`\n",
        "- `362fe21ee44f53ee944cee4ba484600308f83d78`\n",
        "- `25543a3baf77292baf849726784ca005473acab1`\n",
        "\n",
        "¿Qué diferencias existen entre cada uno? (0.25 pts)"
      ]
    },
    {
      "cell_type": "markdown",
      "metadata": {
        "id": "sNHnZsgIitGh",
        "cell_id": "696ed361ac0c41c8a214cfad9dcb39e6",
        "deepnote_cell_type": "markdown"
      },
      "source": [
        "el commit `c8b1a62d7299552b0654f930d695b33109214111` fue realizado por el autor seba, en el cual se agrega el modulo main.py con las 2 funciones que contiene el proyecto. El commit `362fe21ee44f53ee944cee4ba484600308f83d78` fue realizado por Ignacio Meza (mezosky) en el cual se divide el archivo main.py realizado en el commit anterior en la rama main, obteniendo así 2 módulos cada uno con solamente una función: main.py y animales.py.\n",
        "El commit `25543a3baf77292baf849726784ca005473acab1` se diferencia de ambos anteriores en que se desarrolla en una nueva rama fix-ifs, donde se edita el archivo main.py desarrollado en el commit `c8b1a62d7299552b0654f930d695b33109214111` por seba, arreglando los condicionales de la funcion animales de forma que estos no sean independientes entre si y pueda ser seleccionado solo 1 condicional."
      ]
    },
    {
      "cell_type": "markdown",
      "metadata": {
        "id": "WQIPbfNCgpxC",
        "cell_id": "b4e18f8ce94c430f85915c4e2732d05b",
        "deepnote_cell_type": "markdown"
      },
      "source": [
        "### 7 . Realice una `merge` de la rama `fix-ifs` con la rama `main` y describa lo que ocurre. ¿Qué parte del código podría estar ocasionando esto? (0.25 pts)"
      ]
    },
    {
      "cell_type": "markdown",
      "metadata": {
        "id": "ypH_6lL5ioZz",
        "cell_id": "36da6a0d4f4a427bbccac09e2ae965fd",
        "deepnote_cell_type": "markdown"
      },
      "source": [
        "Para ello se ejecuta el siguiente comando:\n",
        "\n",
        "        git merge main origin/fix-ifs\n",
        "\n",
        "Con lo que se obtiene:\n",
        "\n",
        "        Auto-merging main.py\\\n",
        "        CONFLICT (content): Merge conflict in main.py\\\n",
        "        Automatic merge failed; fix conflicts and then commit the result.\n",
        "\n",
        "Esto indica que ambas ramas poseen un archivo llamado main.py, pero este produce problemas al intentar hacer una merge debido a que los archivos discrepan entre si. Esto se debe a que como se comentó anteriormente, en la rama main se tiene una versión editama por Ignacio Meza donde se separaron las funciones en 2 módulos pero sin corregir la función animales, mientras que en la rama fix-ifs desarrollada por seba, se arregla la función animales pero dentro del mismo archivo main.py. Esto produce que al realizar el merge, el archivo main.py se edite de la siguiente forma:\n",
        "\n",
        "            <<<<<<< HEAD\n",
        "            from animales import animales\n",
        "            =======\n",
        "            def animales(input):\n",
        "                \n",
        "                '''\n",
        "                Como hace el animalito?\n",
        "                '''\n",
        "                \n",
        "                if input.lower() == 'gato':\n",
        "                    print('miau')\n",
        "                elif input.lower() == 'perro':\n",
        "                    print('guau')\n",
        "                elif input.lower() == 'fox':\n",
        "                    print('https://www.youtube.com/watch?v=jofNR_WkoCE')\n",
        "                else:\n",
        "                    raise ValueError('animal no reconocido :(')\n",
        "            >>>>>>> origin/fix-ifs\n",
        "\n",
        "            if __name__ == '__main__':\n",
        "                print(\"Ingrese el animalito para saber que dice:\")\n",
        "                animal = input()\n",
        "                animales(animal)\n",
        "\n",
        "Lo que vuelve a unir el código en un solo módulo con 2 funciones, ocasionando problemas nuevamente."
      ]
    },
    {
      "cell_type": "markdown",
      "metadata": {
        "id": "GYfODCjeivkU",
        "cell_id": "09787ab449c543479e5cc54c2a3b6c19",
        "deepnote_cell_type": "markdown"
      },
      "source": [
        "### 8 . Cree una rama nueva y proponga una solución al problema anterior, adjuntando el código corregido y señalando las líneas modificadas. (0.25 pts)"
      ]
    },
    {
      "cell_type": "markdown",
      "metadata": {
        "id": "8heBxDU9iziT",
        "cell_id": "6d963fba3f2d4c17a4b281c7d3f4fb8b",
        "deepnote_cell_type": "markdown"
      },
      "source": [
        "Como rama base se tomará la rama main, ya que esta contiene las ediciones donde se separan las funciones en 2 módulos, dejando asi el archivo con problemas de código en el módulo animales.py.\n",
        "\n",
        "Luego se crea una nueva rama a través del comando:\n",
        "\n",
        "      git checkout -b main_fix\n",
        "\n",
        "Una vez creada la rama main_fix, se proceden a hacer cambios en el código animales.py, donde inicialmente se tenia:\n",
        "\n",
        "      def animales(input):\n",
        "          \n",
        "          '''\n",
        "          Como hace el animalito?\n",
        "          '''\n",
        "          \n",
        "          if input.lower() == 'gato':\n",
        "              print('miau')\n",
        "          if input.lower() == 'perro':\n",
        "              print('guau')\n",
        "          if input.lower() == 'fox':\n",
        "              print('https://www.youtube.com/watch?v=jofNR_WkoCE')\n",
        "          else:\n",
        "              raise ValueError('animal no reconocido :(')\n",
        "\n",
        "Y fue reemplazado por el siguiente código:\n",
        "\n",
        "      def animales(input):\n",
        "          \n",
        "          '''\n",
        "          Como hace el animalito?\n",
        "          '''\n",
        "          \n",
        "          if input.lower() == 'gato':\n",
        "              print('miau')\n",
        "          elif input.lower() == 'perro': #ESTA LINEA FUE MODIFICADA\n",
        "              print('guau')\n",
        "          elif input.lower() == 'fox':  #ESTA LINEA FUE MODIFICADA\n",
        "              print('https://www.youtube.com/watch?v=jofNR_WkoCE')\n",
        "          else:\n",
        "              raise ValueError('animal no reconocido :(')\n",
        "\n",
        "El código corregido se encuentra en el repositorio indicado al inicio de este jupyter, o también en el siguiente [LINK](https://github.com/eduardomoyab/MDS7202_1/blob/main/lab1/animales.py)"
      ]
    },
    {
      "cell_type": "markdown",
      "metadata": {
        "id": "Av8ebB9jkALO",
        "cell_id": "8a47d4bf8b3045d68e4f29bb449c87f1",
        "deepnote_cell_type": "markdown"
      },
      "source": [
        "## Fin"
      ]
    },
    {
      "cell_type": "markdown",
      "metadata": {
        "id": "aQqZT9fSkBK8",
        "cell_id": "cec4b53942ed489f8f8b63d0e9d4f3e5",
        "deepnote_cell_type": "markdown"
      },
      "source": [
        "Eso ha sido todo por ahora!! Esperamos que este laboratorio les haya gustado y servido para trabajar con `Git`. Recuerden los dias de plazo que tienen disponibles y que ante cualquier duda no duden en contactar al equipo docente.\n",
        "\n",
        "Nos vemos!!\n",
        "\n",
        "<p align=\"center\">\n",
        "  <img src=\"https://media.tenor.com/OYLdav9k9LkAAAAd/kitty-cat.gif\" width=\"350\">\n",
        "</p>\n"
      ]
    },
    {
      "cell_type": "markdown",
      "source": [
        "<a style='text-decoration:none;line-height:16px;display:flex;color:#5B5B62;padding:10px;justify-content:end;' href='https://deepnote.com?utm_source=created-in-deepnote-cell&projectId=87110296-876e-426f-b91d-aaf681223468' target=\"_blank\">\n",
        "<img alt='Created in deepnote.com' style='display:inline;max-height:16px;margin:0px;margin-right:7.5px;' src='data:image/svg+xml;base64,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' > </img>\n",
        "Created in <span style='font-weight:600;margin-left:4px;'>Deepnote</span></a>"
      ],
      "metadata": {
        "created_in_deepnote_cell": true,
        "deepnote_cell_type": "markdown",
        "id": "GIMlLIK47nOx"
      }
    }
  ],
  "nbformat": 4,
  "nbformat_minor": 0,
  "metadata": {
    "colab": {
      "provenance": []
    },
    "deepnote": {},
    "kernelspec": {
      "name": "python3",
      "display_name": "Python 3"
    },
    "language_info": {
      "name": "python"
    },
    "deepnote_notebook_id": "62cd20d52b9a4810ada15644630456dc",
    "deepnote_execution_queue": []
  }
}